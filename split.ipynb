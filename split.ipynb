{
 "cells": [
  {
   "cell_type": "code",
   "execution_count": 3,
   "metadata": {},
   "outputs": [],
   "source": [
    "from data import * #1.8s to import & run all codes in that package"
   ]
  },
  {
   "cell_type": "code",
   "execution_count": 38,
   "metadata": {},
   "outputs": [],
   "source": [
    "import numpy as np\n",
    "import pandas as pd\n",
    "import unidecode\n",
    "import json\n",
    "import util\n",
    "import os"
   ]
  },
  {
   "cell_type": "code",
   "execution_count": 5,
   "metadata": {},
   "outputs": [],
   "source": [
    "data = pd.read_csv(r\"data/total.csv\", low_memory=False)\n",
    "\n",
    "SBD = data['SBD']\n",
    "diem = data.drop(columns=['SBD', 'Tên', 'Ngày Sinh', 'Giới tính'])\n",
    "\n",
    "info = pd.DataFrame([diem.median(), diem.mode().iloc[0], diem.mean(numeric_only=True).round(2)], index=('Median', 'Mode', 'Mean'))\n",
    "subjects = tuple(diem.columns)\n",
    "subjects_lower = tuple([unidecode.unidecode(sj).lower() for sj in subjects])\n",
    "\n",
    "# Load file geojson chua cac tinh tren ban do VN\n",
    "with open(r'data/diaphantinh.geojson', encoding='utf8') as f:\n",
    "    vn_map = json.load(f)\n",
    "    \n",
    "# DataFrame chua ma so giao duc va ten tinh\n",
    "tinh = []\n",
    "\n",
    "# Chia cac mien:\n",
    "\n",
    "## Lay ma so giao duc cua cac tinh o moi mien\n",
    "id_bac = (8, 13, 62, 23, 7, 14, 5, 6, 11, 10, 9, 12, 15, 18, 17, 19, 24, 1, 21, 3, 22, 25, 27, 26, 16)\n",
    "id_tru = (28, 29, 30, 31, 32, 33, 4, 34, 35, 37, 39, 41, 45, 47, 36, 38, 40, 63, 42)\n",
    "id_nam = (43, 44, 48, 46, 52, 2, 49, 50, 51, 56, 57, 58, 54, 64, 59, 60, 61, 55, 53)\n",
    "\n",
    "## Chia cac tinh vao cac mien\n",
    "bac = []\n",
    "trung = []\n",
    "nam = []\n",
    "\n",
    "for val in vn_map['features']:\n",
    "    id_ = val['properties'][\"id\"]\n",
    "    name = val['properties'][\"ten_tinh\"]\n",
    "    pack = [id_, name]\n",
    "    \n",
    "    tinh.append(pack)\n",
    "    if id_ in id_bac:\n",
    "        bac.append(pack)\n",
    "    elif id_ in id_tru:\n",
    "        trung.append(pack)\n",
    "    else:\n",
    "        nam.append(pack)\n",
    "\n",
    "tinh, bac, trung, nam = map(pd.DataFrame, [tinh, bac, trung, nam])\n",
    "\n",
    "bac.to_pickle(r'data/map/bac.gz')\n",
    "trung.to_pickle(r'data/map/trung.gz')\n",
    "nam.to_pickle(r'data/map/nam.gz')\n",
    "tinh.to_pickle(r'data/map/tinh.gz')"
   ]
  },
  {
   "cell_type": "code",
   "execution_count": 37,
   "metadata": {},
   "outputs": [
    {
     "data": {
      "text/plain": [
       "array([ 8.5 ,  7.5 ,  2.  ,  5.25,  6.5 ,  7.25,  6.75,  6.  ,  7.75,\n",
       "        8.  ,  6.33,  8.25,  6.25,  5.58,  8.75,  7.  ,  9.  ,  9.25,\n",
       "        5.75,  3.5 ,  3.25,  4.5 ,  6.42,  5.5 ,  3.75,  2.25,   nan,\n",
       "        9.5 ,  4.25,  5.  ,  4.75,  3.  ,  2.75,  1.5 ,  2.5 ,  1.75,\n",
       "        4.  ,  5.33,  7.46,  5.42,  5.9 ,  1.25,  7.33,  6.83,  7.58,\n",
       "        6.08,  5.91,  0.75,  6.41,  0.  ,  5.92,  6.92,  0.5 ,  7.08,\n",
       "        6.27,  9.75,  4.83,  5.46,  7.92,  7.83,  6.67,  6.17,  7.67,\n",
       "        8.33,  6.58,  7.42,  5.66,  3.67,  4.66,  5.83,  5.17,  4.67,\n",
       "        4.42,  7.16,  8.42,  8.08,  4.08,  2.83,  1.  ,  3.17,  3.58,\n",
       "        5.41,  6.16,  6.73,  4.92,  5.08,  5.77,  2.92,  2.67,  6.91,\n",
       "        7.41,  7.91,  7.4 ,  8.58,  8.1 ,  5.67,  4.33,  3.83,  3.91,\n",
       "        3.33,  5.68,  7.17,  6.66,  4.58,  8.17,  7.34,  4.16,  4.41,\n",
       "        5.6 ,  4.91,  6.3 ,  5.18,  5.3 ,  7.3 ,  6.7 ,  5.7 ,  5.4 ,\n",
       "        2.8 ,  6.4 ,  5.16,  7.47,  4.8 ,  7.6 ,  3.9 ,  6.2 ,  7.12,\n",
       "        7.8 ,  6.9 ,  5.1 ,  6.03,  5.2 ,  3.6 ,  4.17,  8.3 ,  4.9 ,\n",
       "        4.3 ,  3.42,  3.92,  0.25,  5.8 ,  5.34,  5.09,  4.4 ,  7.15,\n",
       "        8.66,  6.57,  7.66,  3.41,  3.1 ,  7.2 ,  7.74,  7.93,  6.55,\n",
       "        6.6 ,  6.8 ,  5.81,  7.1 ,  2.58,  7.65,  7.05,  5.99,  5.74,\n",
       "        6.82,  7.82,  3.66,  4.6 ,  7.7 ,  5.88,  4.2 ,  2.33,  2.42,\n",
       "        7.85,  2.18,  2.08,  2.91,  6.11,  3.81,  6.96,  8.8 ,  8.4 ,\n",
       "        2.17,  7.63,  5.95,  6.48,  7.37,  7.71,  2.41,  1.67, 10.  ,\n",
       "        4.27,  3.08,  8.16,  9.08,  3.16,  5.32,  4.69,  4.99,  8.41,\n",
       "        8.83,  7.07,  1.17,  3.51,  8.2 ,  5.63,  2.4 ,  2.24,  8.67,\n",
       "        4.34,  5.03,  6.12,  7.01,  7.95,  6.1 ,  8.28,  7.06,  5.78,\n",
       "        5.73,  6.53,  6.07,  7.27,  6.65,  4.7 ,  6.95])"
      ]
     },
     "execution_count": 37,
     "metadata": {},
     "output_type": "execute_result"
    }
   ],
   "source": [
    "diem['Văn'].unique()"
   ]
  },
  {
   "cell_type": "code",
   "execution_count": 86,
   "metadata": {},
   "outputs": [],
   "source": [
    "for id_ in tinh[0]:\n",
    "    # Tao thu muc chua data cua tinh\n",
    "    path = f\"data/{id_}\"\n",
    "\n",
    "    try:\n",
    "        os.mkdir(path)\n",
    "    except FileExistsError:\n",
    "        pass\n",
    "\n",
    "    diem_tinh = util.diem_theo_tinh(id_, diem, SBD)\n",
    "\n",
    "    for subject in diem_tinh.columns:\n",
    "\n",
    "        # Create a list of tuple to store score and the number of people that have higher score than that\n",
    "        temp_score_storage = [] # Only temporary cuz we need to serialize it later\n",
    "        \n",
    "        for score in diem_tinh[subject].unique():\n",
    "            temp_score_storage.append((score, util.count_cao_hon_hoac_bang(muc_diem = score, df_diem=diem_tinh, mon = subject, percent=False)))\n",
    "        if not temp_score_storage: # No record\n",
    "            temp_score_storage.append((10, 0))\n",
    "\n",
    "        pd.DataFrame(temp_score_storage, columns=('muc_diem', 'count')).sort_values(by = 'muc_diem').dropna().to_pickle(path = f'{path}/{subjects_lower[subjects.index(subject)]}.gz')"
   ]
  },
  {
   "cell_type": "code",
   "execution_count": 87,
   "metadata": {},
   "outputs": [],
   "source": [
    "df = pd.read_pickle('data/29/van.gz')"
   ]
  },
  {
   "cell_type": "code",
   "execution_count": 88,
   "metadata": {},
   "outputs": [
    {
     "data": {
      "text/html": [
       "<div>\n",
       "<style scoped>\n",
       "    .dataframe tbody tr th:only-of-type {\n",
       "        vertical-align: middle;\n",
       "    }\n",
       "\n",
       "    .dataframe tbody tr th {\n",
       "        vertical-align: top;\n",
       "    }\n",
       "\n",
       "    .dataframe thead th {\n",
       "        text-align: right;\n",
       "    }\n",
       "</style>\n",
       "<table border=\"1\" class=\"dataframe\">\n",
       "  <thead>\n",
       "    <tr style=\"text-align: right;\">\n",
       "      <th></th>\n",
       "      <th>muc_diem</th>\n",
       "      <th>count</th>\n",
       "    </tr>\n",
       "  </thead>\n",
       "  <tbody>\n",
       "    <tr>\n",
       "      <th>0</th>\n",
       "      <td>10</td>\n",
       "      <td>0</td>\n",
       "    </tr>\n",
       "  </tbody>\n",
       "</table>\n",
       "</div>"
      ],
      "text/plain": [
       "   muc_diem  count\n",
       "0        10      0"
      ]
     },
     "execution_count": 88,
     "metadata": {},
     "output_type": "execute_result"
    }
   ],
   "source": [
    "df"
   ]
  },
  {
   "cell_type": "code",
   "execution_count": 78,
   "metadata": {},
   "outputs": [
    {
     "data": {
      "text/plain": [
       "16    2837\n",
       "17     699\n",
       "27     135\n",
       "55       7\n",
       "Name: count, dtype: int64"
      ]
     },
     "execution_count": 78,
     "metadata": {},
     "output_type": "execute_result"
    }
   ],
   "source": [
    "df['count'].loc[df['muc_diem'] >= 9].max()"
   ]
  }
 ],
 "metadata": {
  "kernelspec": {
   "display_name": "Python 3.10.4 ('venv': venv)",
   "language": "python",
   "name": "python3"
  },
  "language_info": {
   "codemirror_mode": {
    "name": "ipython",
    "version": 3
   },
   "file_extension": ".py",
   "mimetype": "text/x-python",
   "name": "python",
   "nbconvert_exporter": "python",
   "pygments_lexer": "ipython3",
   "version": "3.10.4"
  },
  "orig_nbformat": 4,
  "vscode": {
   "interpreter": {
    "hash": "26d718b25fb1fb8bd1a9a2bbacc71326160baa736101712252170dc771c85f15"
   }
  }
 },
 "nbformat": 4,
 "nbformat_minor": 2
}
